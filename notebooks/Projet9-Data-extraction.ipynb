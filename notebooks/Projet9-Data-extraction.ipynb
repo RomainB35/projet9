{
 "cells": [
  {
   "cell_type": "markdown",
   "id": "57f21b98-0429-49b4-9d0a-d2e38c1eb6f8",
   "metadata": {},
   "source": [
    "# Extraction d'un échantillon de 10 0000 fichiers audios du dataset common voice FR (https://commonvoice.mozilla.org/fr/datasets)"
   ]
  },
  {
   "cell_type": "code",
   "execution_count": 1,
   "id": "954a5f88-9012-492a-8eed-953074147ec6",
   "metadata": {},
   "outputs": [
    {
     "name": "stdout",
     "output_type": "stream",
     "text": [
      "? Extraction terminée :\n",
      "- data/common_voice_mozilla_fr/cv-corpus-21.0-2025-03-14/fr/subset10K/validated_subset.tsv\n",
      "- 10000 fichiers copiés dans data/common_voice_mozilla_fr/cv-corpus-21.0-2025-03-14/fr/subset10K/clips\n"
     ]
    }
   ],
   "source": [
    "import os\n",
    "import shutil\n",
    "import random\n",
    "import csv\n",
    "\n",
    "# Paramètres\n",
    "base_dir = \"data/common_voice_mozilla_fr/cv-corpus-21.0-2025-03-14/fr\"\n",
    "tsv_file = os.path.join(base_dir, \"validated.tsv\")\n",
    "clips_dir = os.path.join(base_dir, \"clips\")\n",
    "\n",
    "output_dir = os.path.join(base_dir, \"subset10K\")\n",
    "output_tsv = os.path.join(output_dir, \"validated_subset.tsv\")\n",
    "output_clips_dir = os.path.join(output_dir, \"clips\")\n",
    "\n",
    "nb_samples = 10000  # nombre d'échantillons\n",
    "\n",
    "# Création des dossiers de sortie\n",
    "os.makedirs(output_clips_dir, exist_ok=True)\n",
    "\n",
    "# Lecture du TSV\n",
    "with open(tsv_file, \"r\", encoding=\"utf-8\") as f:\n",
    "    reader = list(csv.reader(f, delimiter=\"\\t\"))\n",
    "    header = reader[0]\n",
    "    rows = reader[1:]\n",
    "\n",
    "# Tirage aléatoire de 100k lignes\n",
    "subset_rows = random.sample(rows, nb_samples)\n",
    "\n",
    "# Écriture du nouveau TSV\n",
    "with open(output_tsv, \"w\", encoding=\"utf-8\", newline=\"\") as f:\n",
    "    writer = csv.writer(f, delimiter=\"\\t\")\n",
    "    writer.writerow(header)\n",
    "    writer.writerows(subset_rows)\n",
    "\n",
    "# Copie des fichiers audio correspondants\n",
    "for row in subset_rows:\n",
    "    filename = row[1]  # colonne 'path'\n",
    "    src = os.path.join(clips_dir, filename)\n",
    "    dst = os.path.join(output_clips_dir, filename)\n",
    "    if os.path.exists(src):\n",
    "        shutil.copy(src, dst)\n",
    "\n",
    "print(f\"? Extraction terminée :\")\n",
    "print(f\"- {output_tsv}\")\n",
    "print(f\"- {len(os.listdir(output_clips_dir))} fichiers copiés dans {output_clips_dir}\")\n"
   ]
  },
  {
   "cell_type": "markdown",
   "id": "d02706cb-0b7b-4ee9-a805-9b5b424afd1f",
   "metadata": {},
   "source": [
    "# Extraction d'un échantillon de 50 fichiers common voice pour l'application Streamlit"
   ]
  },
  {
   "cell_type": "code",
   "execution_count": 3,
   "id": "7363a75c-84b5-40b5-8a11-6302a47c55c2",
   "metadata": {},
   "outputs": [
    {
     "name": "stderr",
     "output_type": "stream",
     "text": [
      "/tmp/ipykernel_1031060/781162166.py:18: DtypeWarning: Columns (4,7) have mixed types. Specify dtype option on import or set low_memory=False.\n",
      "  df = pd.read_csv(tsv_file, sep=\"\\t\")\n"
     ]
    },
    {
     "name": "stdout",
     "output_type": "stream",
     "text": [
      "? 50 fichiers copiés dans data/common_voice_mozilla_fr/cv-corpus-21.0-2025-03-14/fr/samples_commonvoice\n",
      "? Transcriptions sauvegardées dans data/common_voice_mozilla_fr/cv-corpus-21.0-2025-03-14/fr/samples_commonvoice/transcripts.json\n"
     ]
    }
   ],
   "source": [
    "import os\n",
    "import json\n",
    "import random\n",
    "import shutil\n",
    "import pandas as pd\n",
    "\n",
    "# --- paramètres ---\n",
    "N = 50  # nombre d'échantillons\n",
    "tsv_file = \"data/common_voice_mozilla_fr/cv-corpus-21.0-2025-03-14/fr/validated.tsv\"\n",
    "clips_dir = \"data/common_voice_mozilla_fr/cv-corpus-21.0-2025-03-14/fr/clips\"\n",
    "output_dir = \"data/common_voice_mozilla_fr/cv-corpus-21.0-2025-03-14/fr/samples_commonvoice\"\n",
    "output_json = os.path.join(output_dir, \"transcripts.json\")\n",
    "\n",
    "# --- création du répertoire ---\n",
    "os.makedirs(output_dir, exist_ok=True)\n",
    "\n",
    "# --- chargement du TSV ---\n",
    "df = pd.read_csv(tsv_file, sep=\"\\t\")\n",
    "\n",
    "# sélection aléatoire de N échantillons valides\n",
    "subset = df.sample(N, random_state=42)\n",
    "\n",
    "# dictionnaire pour transcripts.json\n",
    "transcripts = {}\n",
    "\n",
    "for _, row in subset.iterrows():\n",
    "    src = os.path.join(clips_dir, row[\"path\"])\n",
    "    dst = os.path.join(output_dir, row[\"path\"])\n",
    "    # copie du fichier audio\n",
    "    shutil.copy(src, dst)\n",
    "    # ajout dans le dictionnaire (clé = nom du fichier, valeur = phrase)\n",
    "    transcripts[row[\"path\"]] = row[\"sentence\"]\n",
    "\n",
    "# écriture du nouveau JSON\n",
    "with open(output_json, \"w\", encoding=\"utf-8\") as f:\n",
    "    json.dump(transcripts, f, ensure_ascii=False, indent=2)\n",
    "\n",
    "print(f\"? {N} fichiers copiés dans {output_dir}\")\n",
    "print(f\"? Transcriptions sauvegardées dans {output_json}\")\n"
   ]
  },
  {
   "cell_type": "markdown",
   "id": "fbef7546-d4b8-4c04-94ba-38a52443988e",
   "metadata": {},
   "source": [
    "# Extraction d'un échantillon de 10000 fichiers audio dans le jeu de données voxpopuli FR (https://github.com/facebookresearch/voxpopuli)"
   ]
  },
  {
   "cell_type": "code",
   "execution_count": 4,
   "id": "fc8b7c93-bfa6-499d-becf-c86ec54ac918",
   "metadata": {},
   "outputs": [
    {
     "name": "stdout",
     "output_type": "stream",
     "text": [
      "? Extraction terminée :\n",
      "- /home/projet9/projet9/notebooks/data/voxpopuli_fr_train/subset10K/asr_train_subset.tsv\n",
      "- 10000 fichiers copiés dans /home/projet9/projet9/notebooks/data/voxpopuli_fr_train/subset10K/clips\n"
     ]
    }
   ],
   "source": [
    "import os\n",
    "import shutil\n",
    "import random\n",
    "import csv\n",
    "\n",
    "# Dossiers VoxPopuli\n",
    "base_dir = \"/home/projet9/projet9/notebooks/data/voxpopuli_fr_train\"\n",
    "tsv_file = os.path.join(base_dir, \"asr_train.tsv\")\n",
    "\n",
    "output_dir = os.path.join(base_dir, \"subset10K\")\n",
    "output_tsv = os.path.join(output_dir, \"asr_train_subset.tsv\")\n",
    "output_clips_dir = os.path.join(output_dir, \"clips\")\n",
    "\n",
    "nb_samples = 10000  # nombre d'échantillons\n",
    "\n",
    "# Création des dossiers de sortie\n",
    "os.makedirs(output_clips_dir, exist_ok=True)\n",
    "\n",
    "# Lecture du TSV complet\n",
    "with open(tsv_file, \"r\", encoding=\"utf-8\") as f:\n",
    "    reader = list(csv.reader(f, delimiter=\"\\t\"))\n",
    "    header = reader[0]\n",
    "    rows = reader[1:]\n",
    "\n",
    "# Tirage aléatoire de nb_samples lignes\n",
    "subset_rows = random.sample(rows, nb_samples)\n",
    "\n",
    "# Écriture du nouveau TSV réduit\n",
    "with open(output_tsv, \"w\", encoding=\"utf-8\", newline=\"\") as f:\n",
    "    writer = csv.writer(f, delimiter=\"\\t\")\n",
    "    writer.writerow(header)\n",
    "    writer.writerows(subset_rows)\n",
    "\n",
    "# Copie des fichiers audio correspondants\n",
    "for row in subset_rows:\n",
    "    file_id = row[0]  # colonne \"id\" = nom du fichier sans extension\n",
    "    filename = file_id + \".wav\"\n",
    "\n",
    "    # Chercher le fichier dans train_part_0 ... train_part_14\n",
    "    found = False\n",
    "    for part_idx in range(15):  # adapter si plus/moins de dossiers\n",
    "        src = os.path.join(base_dir, f\"train_part_{part_idx}\", filename)\n",
    "        if os.path.exists(src):\n",
    "            dst = os.path.join(output_clips_dir, filename)\n",
    "            shutil.copy(src, dst)\n",
    "            found = True\n",
    "            break\n",
    "\n",
    "    if not found:\n",
    "        print(f\"?? Fichier audio introuvable : {filename}\")\n",
    "\n",
    "print(f\"? Extraction terminée :\")\n",
    "print(f\"- {output_tsv}\")\n",
    "print(f\"- {len(os.listdir(output_clips_dir))} fichiers copiés dans {output_clips_dir}\")\n"
   ]
  },
  {
   "cell_type": "markdown",
   "id": "366b721d-e556-4ff5-b386-b0ab9fa54744",
   "metadata": {},
   "source": [
    "# Extraction d'un échantillon de 50 fichiers voxpopuli pour l'application de démonstration Streamlit"
   ]
  },
  {
   "cell_type": "code",
   "execution_count": 5,
   "id": "b99badd5-c21a-4756-b69d-3e062c492472",
   "metadata": {},
   "outputs": [
    {
     "name": "stdout",
     "output_type": "stream",
     "text": [
      "? 50 fichiers copiés dans /home/projet9/projet9/notebooks/data/voxpopuli_fr_train/samples_voxpopuli\n",
      "? Transcriptions sauvegardées dans /home/projet9/projet9/notebooks/data/voxpopuli_fr_train/samples_voxpopuli/transcripts.json\n"
     ]
    }
   ],
   "source": [
    "import os\n",
    "import json\n",
    "import random\n",
    "import shutil\n",
    "import pandas as pd\n",
    "\n",
    "# --- paramètres ---\n",
    "N = 50  # nombre d'échantillons\n",
    "base_dir = \"/home/projet9/projet9/notebooks/data/voxpopuli_fr_train\"\n",
    "tsv_file = os.path.join(base_dir, \"asr_train.tsv\")\n",
    "output_dir = os.path.join(base_dir, \"samples_voxpopuli\")\n",
    "output_json = os.path.join(output_dir, \"transcripts.json\")\n",
    "\n",
    "# --- création du répertoire ---\n",
    "os.makedirs(output_dir, exist_ok=True)\n",
    "\n",
    "# --- chargement du TSV ---\n",
    "df = pd.read_csv(tsv_file, sep=\"\\t\")\n",
    "\n",
    "# sélection aléatoire de N échantillons\n",
    "subset = df.sample(N, random_state=42)\n",
    "\n",
    "# dictionnaire pour transcripts.json\n",
    "transcripts = {}\n",
    "\n",
    "for _, row in subset.iterrows():\n",
    "    file_id = row[\"id\"]  # nom du fichier sans extension\n",
    "    filename = file_id + \".wav\"\n",
    "    normalized_text = row[\"normalized_text\"]\n",
    "\n",
    "    # rechercher dans les dossiers train_part_*\n",
    "    found = False\n",
    "    for part_idx in range(15):  # 0 à 14\n",
    "        src = os.path.join(base_dir, f\"train_part_{part_idx}\", filename)\n",
    "        if os.path.exists(src):\n",
    "            dst = os.path.join(output_dir, filename)\n",
    "            shutil.copy(src, dst)\n",
    "            found = True\n",
    "            break\n",
    "\n",
    "    if found:\n",
    "        transcripts[filename] = normalized_text\n",
    "    else:\n",
    "        print(f\"?? Fichier introuvable : {filename}\")\n",
    "\n",
    "# écriture du JSON\n",
    "with open(output_json, \"w\", encoding=\"utf-8\") as f:\n",
    "    json.dump(transcripts, f, ensure_ascii=False, indent=2)\n",
    "\n",
    "print(f\"? {len(transcripts)} fichiers copiés dans {output_dir}\")\n",
    "print(f\"? Transcriptions sauvegardées dans {output_json}\")\n"
   ]
  }
 ],
 "metadata": {
  "kernelspec": {
   "display_name": "Python (projet9)",
   "language": "python",
   "name": "projet9"
  },
  "language_info": {
   "codemirror_mode": {
    "name": "ipython",
    "version": 3
   },
   "file_extension": ".py",
   "mimetype": "text/x-python",
   "name": "python",
   "nbconvert_exporter": "python",
   "pygments_lexer": "ipython3",
   "version": "3.12.3"
  }
 },
 "nbformat": 4,
 "nbformat_minor": 5
}
